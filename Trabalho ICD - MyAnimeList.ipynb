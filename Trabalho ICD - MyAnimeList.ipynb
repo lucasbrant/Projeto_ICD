{
  "nbformat": 4,
  "nbformat_minor": 0,
  "metadata": {
    "kernelspec": {
      "display_name": "Python 3",
      "language": "python",
      "name": "python3"
    },
    "language_info": {
      "codemirror_mode": {
        "name": "ipython",
        "version": 3
      },
      "file_extension": ".py",
      "mimetype": "text/x-python",
      "name": "python",
      "nbconvert_exporter": "python",
      "pygments_lexer": "ipython3",
      "version": "3.7.3"
    },
    "colab": {
      "name": "Trabalho ICD - MyAnimeList(1).ipynb",
      "provenance": [],
      "toc_visible": true
    }
  },
  "cells": [
    {
      "cell_type": "code",
      "metadata": {
        "id": "UGSCpyPdxSpk",
        "colab_type": "code",
        "colab": {}
      },
      "source": [
        "import numpy as np\n",
        "import matplotlib.pyplot as plt\n",
        "import pandas as pd\n",
        "import scipy.stats as st\n",
        "from sklearn.preprocessing import StandardScaler\n",
        "from sklearn.metrics import precision_recall_fscore_support\n",
        "from sklearn.neighbors import KNeighborsClassifier\n",
        "from sklearn.model_selection import train_test_split\n",
        "from sklearn.metrics import accuracy_score\n",
        "from sklearn.metrics import classification_report\n",
        "from sklearn.multiclass import OneVsRestClassifier"
      ],
      "execution_count": 0,
      "outputs": []
    },
    {
      "cell_type": "code",
      "metadata": {
        "id": "KbAC8UE0xSp1",
        "colab_type": "code",
        "colab": {}
      },
      "source": [
        "pd.set_option(\"display.max_rows\", 10)"
      ],
      "execution_count": 0,
      "outputs": []
    },
    {
      "cell_type": "code",
      "metadata": {
        "id": "BJGH3e7JxSqB",
        "colab_type": "code",
        "outputId": "204d4322-9554-46a7-88c1-3104893977c6",
        "colab": {
          "base_uri": "https://localhost:8080/",
          "height": 1000
        }
      },
      "source": [
        "df = pd.read_csv(\"anime_filtered.csv\")\n",
        "df"
      ],
      "execution_count": 0,
      "outputs": [
        {
          "output_type": "execute_result",
          "data": {
            "text/html": [
              "<div>\n",
              "<style scoped>\n",
              "    .dataframe tbody tr th:only-of-type {\n",
              "        vertical-align: middle;\n",
              "    }\n",
              "\n",
              "    .dataframe tbody tr th {\n",
              "        vertical-align: top;\n",
              "    }\n",
              "\n",
              "    .dataframe thead th {\n",
              "        text-align: right;\n",
              "    }\n",
              "</style>\n",
              "<table border=\"1\" class=\"dataframe\">\n",
              "  <thead>\n",
              "    <tr style=\"text-align: right;\">\n",
              "      <th></th>\n",
              "      <th>anime_id</th>\n",
              "      <th>title</th>\n",
              "      <th>title_english</th>\n",
              "      <th>title_japanese</th>\n",
              "      <th>title_synonyms</th>\n",
              "      <th>image_url</th>\n",
              "      <th>type</th>\n",
              "      <th>source</th>\n",
              "      <th>episodes</th>\n",
              "      <th>status</th>\n",
              "      <th>airing</th>\n",
              "      <th>aired_string</th>\n",
              "      <th>aired</th>\n",
              "      <th>duration</th>\n",
              "      <th>rating</th>\n",
              "      <th>score</th>\n",
              "      <th>scored_by</th>\n",
              "      <th>rank</th>\n",
              "      <th>popularity</th>\n",
              "      <th>members</th>\n",
              "      <th>favorites</th>\n",
              "      <th>background</th>\n",
              "      <th>premiered</th>\n",
              "      <th>broadcast</th>\n",
              "      <th>related</th>\n",
              "      <th>producer</th>\n",
              "      <th>licensor</th>\n",
              "      <th>studio</th>\n",
              "      <th>genre</th>\n",
              "      <th>opening_theme</th>\n",
              "      <th>ending_theme</th>\n",
              "    </tr>\n",
              "  </thead>\n",
              "  <tbody>\n",
              "    <tr>\n",
              "      <th>0</th>\n",
              "      <td>11013</td>\n",
              "      <td>Inu x Boku SS</td>\n",
              "      <td>Inu X Boku Secret Service</td>\n",
              "      <td>妖狐×僕SS</td>\n",
              "      <td>Youko x Boku SS</td>\n",
              "      <td>https://myanimelist.cdn-dena.com/images/anime/...</td>\n",
              "      <td>TV</td>\n",
              "      <td>Manga</td>\n",
              "      <td>12</td>\n",
              "      <td>Finished Airing</td>\n",
              "      <td>False</td>\n",
              "      <td>Jan 13, 2012 to Mar 30, 2012</td>\n",
              "      <td>{'from': '2012-01-13', 'to': '2012-03-30'}</td>\n",
              "      <td>24 min. per ep.</td>\n",
              "      <td>PG-13 - Teens 13 or older</td>\n",
              "      <td>7.63</td>\n",
              "      <td>139250</td>\n",
              "      <td>1274.0</td>\n",
              "      <td>231</td>\n",
              "      <td>283882</td>\n",
              "      <td>2809</td>\n",
              "      <td>Inu x Boku SS was licensed by Sentai Filmworks...</td>\n",
              "      <td>Winter 2012</td>\n",
              "      <td>Fridays at Unknown</td>\n",
              "      <td>{'Adaptation': [{'mal_id': 17207, 'type': 'man...</td>\n",
              "      <td>Aniplex, Square Enix, Mainichi Broadcasting Sy...</td>\n",
              "      <td>Sentai Filmworks</td>\n",
              "      <td>David Production</td>\n",
              "      <td>Comedy, Supernatural, Romance, Shounen</td>\n",
              "      <td>['\"Nirvana\" by MUCC']</td>\n",
              "      <td>['#1: \"Nirvana\" by MUCC (eps 1, 11-12)', '#2: ...</td>\n",
              "    </tr>\n",
              "    <tr>\n",
              "      <th>1</th>\n",
              "      <td>2104</td>\n",
              "      <td>Seto no Hanayome</td>\n",
              "      <td>My Bride is a Mermaid</td>\n",
              "      <td>瀬戸の花嫁</td>\n",
              "      <td>The Inland Sea Bride</td>\n",
              "      <td>https://myanimelist.cdn-dena.com/images/anime/...</td>\n",
              "      <td>TV</td>\n",
              "      <td>Manga</td>\n",
              "      <td>26</td>\n",
              "      <td>Finished Airing</td>\n",
              "      <td>False</td>\n",
              "      <td>Apr 2, 2007 to Oct 1, 2007</td>\n",
              "      <td>{'from': '2007-04-02', 'to': '2007-10-01'}</td>\n",
              "      <td>24 min. per ep.</td>\n",
              "      <td>PG-13 - Teens 13 or older</td>\n",
              "      <td>7.89</td>\n",
              "      <td>91206</td>\n",
              "      <td>727.0</td>\n",
              "      <td>366</td>\n",
              "      <td>204003</td>\n",
              "      <td>2579</td>\n",
              "      <td>NaN</td>\n",
              "      <td>Spring 2007</td>\n",
              "      <td>Unknown</td>\n",
              "      <td>{'Adaptation': [{'mal_id': 759, 'type': 'manga...</td>\n",
              "      <td>TV Tokyo, AIC, Square Enix, Sotsu</td>\n",
              "      <td>Funimation</td>\n",
              "      <td>Gonzo</td>\n",
              "      <td>Comedy, Parody, Romance, School, Shounen</td>\n",
              "      <td>['\"Romantic summer\" by SUN&amp;LUNAR']</td>\n",
              "      <td>['#1: \"Ashita e no Hikari (明日への光)\" by Asuka Hi...</td>\n",
              "    </tr>\n",
              "    <tr>\n",
              "      <th>2</th>\n",
              "      <td>5262</td>\n",
              "      <td>Shugo Chara!! Doki</td>\n",
              "      <td>Shugo Chara!! Doki</td>\n",
              "      <td>しゅごキャラ！！どきっ</td>\n",
              "      <td>Shugo Chara Ninenme, Shugo Chara! Second Year</td>\n",
              "      <td>https://myanimelist.cdn-dena.com/images/anime/...</td>\n",
              "      <td>TV</td>\n",
              "      <td>Manga</td>\n",
              "      <td>51</td>\n",
              "      <td>Finished Airing</td>\n",
              "      <td>False</td>\n",
              "      <td>Oct 4, 2008 to Sep 25, 2009</td>\n",
              "      <td>{'from': '2008-10-04', 'to': '2009-09-25'}</td>\n",
              "      <td>24 min. per ep.</td>\n",
              "      <td>PG - Children</td>\n",
              "      <td>7.55</td>\n",
              "      <td>37129</td>\n",
              "      <td>1508.0</td>\n",
              "      <td>1173</td>\n",
              "      <td>70127</td>\n",
              "      <td>802</td>\n",
              "      <td>NaN</td>\n",
              "      <td>Fall 2008</td>\n",
              "      <td>Unknown</td>\n",
              "      <td>{'Adaptation': [{'mal_id': 101, 'type': 'manga...</td>\n",
              "      <td>TV Tokyo, Sotsu</td>\n",
              "      <td>NaN</td>\n",
              "      <td>Satelight</td>\n",
              "      <td>Comedy, Magic, School, Shoujo</td>\n",
              "      <td>['#1: \"Minna no Tamago (みんなのたまご)\" by Shugo Cha...</td>\n",
              "      <td>['#1: \"Rottara Rottara (ロッタラ ロッタラ)\" by Buono! ...</td>\n",
              "    </tr>\n",
              "    <tr>\n",
              "      <th>3</th>\n",
              "      <td>721</td>\n",
              "      <td>Princess Tutu</td>\n",
              "      <td>Princess Tutu</td>\n",
              "      <td>プリンセスチュチュ</td>\n",
              "      <td>NaN</td>\n",
              "      <td>https://myanimelist.cdn-dena.com/images/anime/...</td>\n",
              "      <td>TV</td>\n",
              "      <td>Original</td>\n",
              "      <td>38</td>\n",
              "      <td>Finished Airing</td>\n",
              "      <td>False</td>\n",
              "      <td>Aug 16, 2002 to May 23, 2003</td>\n",
              "      <td>{'from': '2002-08-16', 'to': '2003-05-23'}</td>\n",
              "      <td>16 min. per ep.</td>\n",
              "      <td>PG-13 - Teens 13 or older</td>\n",
              "      <td>8.21</td>\n",
              "      <td>36501</td>\n",
              "      <td>307.0</td>\n",
              "      <td>916</td>\n",
              "      <td>93312</td>\n",
              "      <td>3344</td>\n",
              "      <td>Princess Tutu aired in two parts. The first pa...</td>\n",
              "      <td>Summer 2002</td>\n",
              "      <td>Fridays at Unknown</td>\n",
              "      <td>{'Adaptation': [{'mal_id': 1581, 'type': 'mang...</td>\n",
              "      <td>Memory-Tech, GANSIS, Marvelous AQL</td>\n",
              "      <td>ADV Films</td>\n",
              "      <td>Hal Film Maker</td>\n",
              "      <td>Comedy, Drama, Magic, Romance, Fantasy</td>\n",
              "      <td>['\"Morning Grace\" by Ritsuko Okazaki']</td>\n",
              "      <td>['\"Watashi No Ai Wa Chiisaikeredo\" by Ritsuko ...</td>\n",
              "    </tr>\n",
              "    <tr>\n",
              "      <th>4</th>\n",
              "      <td>12365</td>\n",
              "      <td>Bakuman. 3rd Season</td>\n",
              "      <td>Bakuman.</td>\n",
              "      <td>バクマン。</td>\n",
              "      <td>Bakuman Season 3</td>\n",
              "      <td>https://myanimelist.cdn-dena.com/images/anime/...</td>\n",
              "      <td>TV</td>\n",
              "      <td>Manga</td>\n",
              "      <td>25</td>\n",
              "      <td>Finished Airing</td>\n",
              "      <td>False</td>\n",
              "      <td>Oct 6, 2012 to Mar 30, 2013</td>\n",
              "      <td>{'from': '2012-10-06', 'to': '2013-03-30'}</td>\n",
              "      <td>24 min. per ep.</td>\n",
              "      <td>PG-13 - Teens 13 or older</td>\n",
              "      <td>8.67</td>\n",
              "      <td>107767</td>\n",
              "      <td>50.0</td>\n",
              "      <td>426</td>\n",
              "      <td>182765</td>\n",
              "      <td>2082</td>\n",
              "      <td>NaN</td>\n",
              "      <td>Fall 2012</td>\n",
              "      <td>Unknown</td>\n",
              "      <td>{'Adaptation': [{'mal_id': 9711, 'type': 'mang...</td>\n",
              "      <td>NHK, Shueisha</td>\n",
              "      <td>NaN</td>\n",
              "      <td>J.C.Staff</td>\n",
              "      <td>Comedy, Drama, Romance, Shounen</td>\n",
              "      <td>['#1: \"Moshimo no Hanashi (もしもの話)\" by nano.RIP...</td>\n",
              "      <td>['#1: \"Pride on Everyday\" by Sphere (eps 1-13)...</td>\n",
              "    </tr>\n",
              "    <tr>\n",
              "      <th>...</th>\n",
              "      <td>...</td>\n",
              "      <td>...</td>\n",
              "      <td>...</td>\n",
              "      <td>...</td>\n",
              "      <td>...</td>\n",
              "      <td>...</td>\n",
              "      <td>...</td>\n",
              "      <td>...</td>\n",
              "      <td>...</td>\n",
              "      <td>...</td>\n",
              "      <td>...</td>\n",
              "      <td>...</td>\n",
              "      <td>...</td>\n",
              "      <td>...</td>\n",
              "      <td>...</td>\n",
              "      <td>...</td>\n",
              "      <td>...</td>\n",
              "      <td>...</td>\n",
              "      <td>...</td>\n",
              "      <td>...</td>\n",
              "      <td>...</td>\n",
              "      <td>...</td>\n",
              "      <td>...</td>\n",
              "      <td>...</td>\n",
              "      <td>...</td>\n",
              "      <td>...</td>\n",
              "      <td>...</td>\n",
              "      <td>...</td>\n",
              "      <td>...</td>\n",
              "      <td>...</td>\n",
              "      <td>...</td>\n",
              "    </tr>\n",
              "    <tr>\n",
              "      <th>14469</th>\n",
              "      <td>26089</td>\n",
              "      <td>Gutchonpa Omoshiro Hanashi</td>\n",
              "      <td>NaN</td>\n",
              "      <td>グッチョンパおもしろ話</td>\n",
              "      <td>NaN</td>\n",
              "      <td>https://myanimelist.cdn-dena.com/images/anime/...</td>\n",
              "      <td>TV</td>\n",
              "      <td>Unknown</td>\n",
              "      <td>5</td>\n",
              "      <td>Finished Airing</td>\n",
              "      <td>False</td>\n",
              "      <td>Nov 5, 1987 to Nov 4, 1988</td>\n",
              "      <td>{'from': '1987-11-05', 'to': '1988-11-04'}</td>\n",
              "      <td>8 min. per ep.</td>\n",
              "      <td>G - All Ages</td>\n",
              "      <td>5.50</td>\n",
              "      <td>6</td>\n",
              "      <td>10337.0</td>\n",
              "      <td>13598</td>\n",
              "      <td>76</td>\n",
              "      <td>0</td>\n",
              "      <td>NaN</td>\n",
              "      <td>Fall 1987</td>\n",
              "      <td>Unknown</td>\n",
              "      <td>{'Other': [{'mal_id': 26087, 'type': 'anime', ...</td>\n",
              "      <td>NaN</td>\n",
              "      <td>NaN</td>\n",
              "      <td>NaN</td>\n",
              "      <td>Kids</td>\n",
              "      <td>[]</td>\n",
              "      <td>[]</td>\n",
              "    </tr>\n",
              "    <tr>\n",
              "      <th>14470</th>\n",
              "      <td>21525</td>\n",
              "      <td>Geba Geba Shou Time!</td>\n",
              "      <td>NaN</td>\n",
              "      <td>ゲバゲバ笑タイム!</td>\n",
              "      <td>NaN</td>\n",
              "      <td>https://myanimelist.cdn-dena.com/images/anime/...</td>\n",
              "      <td>OVA</td>\n",
              "      <td>Unknown</td>\n",
              "      <td>1</td>\n",
              "      <td>Finished Airing</td>\n",
              "      <td>False</td>\n",
              "      <td>Mar 21, 1986</td>\n",
              "      <td>{'from': '1986-03-21', 'to': '1986-03-21'}</td>\n",
              "      <td>25 min.</td>\n",
              "      <td>G - All Ages</td>\n",
              "      <td>4.60</td>\n",
              "      <td>5</td>\n",
              "      <td>10236.0</td>\n",
              "      <td>13284</td>\n",
              "      <td>90</td>\n",
              "      <td>0</td>\n",
              "      <td>NaN</td>\n",
              "      <td>NaN</td>\n",
              "      <td>NaN</td>\n",
              "      <td>[]</td>\n",
              "      <td>Studio Lotus</td>\n",
              "      <td>NaN</td>\n",
              "      <td>NaN</td>\n",
              "      <td>Comedy</td>\n",
              "      <td>[]</td>\n",
              "      <td>[]</td>\n",
              "    </tr>\n",
              "    <tr>\n",
              "      <th>14471</th>\n",
              "      <td>37897</td>\n",
              "      <td>Godzilla: Hoshi wo Kuu Mono</td>\n",
              "      <td>NaN</td>\n",
              "      <td>GODZILLA -星を喰う者-</td>\n",
              "      <td>Godzilla Part 3, Godzilla: Eater of Stars</td>\n",
              "      <td>https://myanimelist.cdn-dena.com/images/anime/...</td>\n",
              "      <td>Movie</td>\n",
              "      <td>Other</td>\n",
              "      <td>1</td>\n",
              "      <td>Not yet aired</td>\n",
              "      <td>False</td>\n",
              "      <td>Nov, 2018</td>\n",
              "      <td>{'from': None, 'to': None}</td>\n",
              "      <td>Unknown</td>\n",
              "      <td>R - 17+ (violence &amp; profanity)</td>\n",
              "      <td>0.00</td>\n",
              "      <td>0</td>\n",
              "      <td>NaN</td>\n",
              "      <td>7226</td>\n",
              "      <td>1741</td>\n",
              "      <td>0</td>\n",
              "      <td>NaN</td>\n",
              "      <td>NaN</td>\n",
              "      <td>NaN</td>\n",
              "      <td>{'Prequel': [{'mal_id': 36816, 'type': 'anime'...</td>\n",
              "      <td>NaN</td>\n",
              "      <td>NaN</td>\n",
              "      <td>NaN</td>\n",
              "      <td>Action, Sci-Fi, Adventure, Fantasy</td>\n",
              "      <td>[]</td>\n",
              "      <td>[]</td>\n",
              "    </tr>\n",
              "    <tr>\n",
              "      <th>14472</th>\n",
              "      <td>34193</td>\n",
              "      <td>Nippon Mukashibanashi: Sannen Netarou</td>\n",
              "      <td>NaN</td>\n",
              "      <td>日本昔ばなし 三ねん寝太郎</td>\n",
              "      <td>NaN</td>\n",
              "      <td>https://myanimelist.cdn-dena.com/images/anime/...</td>\n",
              "      <td>OVA</td>\n",
              "      <td>Other</td>\n",
              "      <td>1</td>\n",
              "      <td>Finished Airing</td>\n",
              "      <td>False</td>\n",
              "      <td>Not available</td>\n",
              "      <td>{'from': None, 'to': None}</td>\n",
              "      <td>40 min.</td>\n",
              "      <td>G - All Ages</td>\n",
              "      <td>6.00</td>\n",
              "      <td>1</td>\n",
              "      <td>11557.0</td>\n",
              "      <td>14334</td>\n",
              "      <td>32</td>\n",
              "      <td>0</td>\n",
              "      <td>NaN</td>\n",
              "      <td>NaN</td>\n",
              "      <td>NaN</td>\n",
              "      <td>[]</td>\n",
              "      <td>NaN</td>\n",
              "      <td>NaN</td>\n",
              "      <td>NaN</td>\n",
              "      <td>Fantasy, Kids</td>\n",
              "      <td>[]</td>\n",
              "      <td>[]</td>\n",
              "    </tr>\n",
              "    <tr>\n",
              "      <th>14473</th>\n",
              "      <td>37908</td>\n",
              "      <td>Senjou no Valkyria Special</td>\n",
              "      <td>NaN</td>\n",
              "      <td>戦場のヴァルキュリア Valkyria Chronicles</td>\n",
              "      <td>Senjou no Valkyria Fake Movie Promo</td>\n",
              "      <td>https://myanimelist.cdn-dena.com/images/anime/...</td>\n",
              "      <td>Special</td>\n",
              "      <td>Unknown</td>\n",
              "      <td>1</td>\n",
              "      <td>Finished Airing</td>\n",
              "      <td>False</td>\n",
              "      <td>Apr 7, 2010</td>\n",
              "      <td>{'from': '2010-04-07', 'to': '2010-04-07'}</td>\n",
              "      <td>3 min.</td>\n",
              "      <td>PG-13 - Teens 13 or older</td>\n",
              "      <td>5.15</td>\n",
              "      <td>47</td>\n",
              "      <td>12056.0</td>\n",
              "      <td>9767</td>\n",
              "      <td>476</td>\n",
              "      <td>0</td>\n",
              "      <td>NaN</td>\n",
              "      <td>NaN</td>\n",
              "      <td>NaN</td>\n",
              "      <td>{'Other': [{'mal_id': 5507, 'type': 'anime', '...</td>\n",
              "      <td>NaN</td>\n",
              "      <td>NaN</td>\n",
              "      <td>A-1 Pictures</td>\n",
              "      <td>Comedy</td>\n",
              "      <td>[]</td>\n",
              "      <td>[]</td>\n",
              "    </tr>\n",
              "  </tbody>\n",
              "</table>\n",
              "<p>14474 rows × 31 columns</p>\n",
              "</div>"
            ],
            "text/plain": [
              "       anime_id                                  title  \\\n",
              "0         11013                          Inu x Boku SS   \n",
              "1          2104                       Seto no Hanayome   \n",
              "2          5262                     Shugo Chara!! Doki   \n",
              "3           721                          Princess Tutu   \n",
              "4         12365                    Bakuman. 3rd Season   \n",
              "...         ...                                    ...   \n",
              "14469     26089             Gutchonpa Omoshiro Hanashi   \n",
              "14470     21525                   Geba Geba Shou Time!   \n",
              "14471     37897            Godzilla: Hoshi wo Kuu Mono   \n",
              "14472     34193  Nippon Mukashibanashi: Sannen Netarou   \n",
              "14473     37908             Senjou no Valkyria Special   \n",
              "\n",
              "                   title_english                  title_japanese  \\\n",
              "0      Inu X Boku Secret Service                          妖狐×僕SS   \n",
              "1          My Bride is a Mermaid                           瀬戸の花嫁   \n",
              "2             Shugo Chara!! Doki                     しゅごキャラ！！どきっ   \n",
              "3                  Princess Tutu                       プリンセスチュチュ   \n",
              "4                       Bakuman.                           バクマン。   \n",
              "...                          ...                             ...   \n",
              "14469                        NaN                     グッチョンパおもしろ話   \n",
              "14470                        NaN                       ゲバゲバ笑タイム!   \n",
              "14471                        NaN                GODZILLA -星を喰う者-   \n",
              "14472                        NaN                   日本昔ばなし 三ねん寝太郎   \n",
              "14473                        NaN  戦場のヴァルキュリア Valkyria Chronicles   \n",
              "\n",
              "                                      title_synonyms  \\\n",
              "0                                    Youko x Boku SS   \n",
              "1                               The Inland Sea Bride   \n",
              "2      Shugo Chara Ninenme, Shugo Chara! Second Year   \n",
              "3                                                NaN   \n",
              "4                                   Bakuman Season 3   \n",
              "...                                              ...   \n",
              "14469                                            NaN   \n",
              "14470                                            NaN   \n",
              "14471      Godzilla Part 3, Godzilla: Eater of Stars   \n",
              "14472                                            NaN   \n",
              "14473            Senjou no Valkyria Fake Movie Promo   \n",
              "\n",
              "                                               image_url     type    source  \\\n",
              "0      https://myanimelist.cdn-dena.com/images/anime/...       TV     Manga   \n",
              "1      https://myanimelist.cdn-dena.com/images/anime/...       TV     Manga   \n",
              "2      https://myanimelist.cdn-dena.com/images/anime/...       TV     Manga   \n",
              "3      https://myanimelist.cdn-dena.com/images/anime/...       TV  Original   \n",
              "4      https://myanimelist.cdn-dena.com/images/anime/...       TV     Manga   \n",
              "...                                                  ...      ...       ...   \n",
              "14469  https://myanimelist.cdn-dena.com/images/anime/...       TV   Unknown   \n",
              "14470  https://myanimelist.cdn-dena.com/images/anime/...      OVA   Unknown   \n",
              "14471  https://myanimelist.cdn-dena.com/images/anime/...    Movie     Other   \n",
              "14472  https://myanimelist.cdn-dena.com/images/anime/...      OVA     Other   \n",
              "14473  https://myanimelist.cdn-dena.com/images/anime/...  Special   Unknown   \n",
              "\n",
              "       episodes           status  airing                  aired_string  \\\n",
              "0            12  Finished Airing   False  Jan 13, 2012 to Mar 30, 2012   \n",
              "1            26  Finished Airing   False    Apr 2, 2007 to Oct 1, 2007   \n",
              "2            51  Finished Airing   False   Oct 4, 2008 to Sep 25, 2009   \n",
              "3            38  Finished Airing   False  Aug 16, 2002 to May 23, 2003   \n",
              "4            25  Finished Airing   False   Oct 6, 2012 to Mar 30, 2013   \n",
              "...         ...              ...     ...                           ...   \n",
              "14469         5  Finished Airing   False    Nov 5, 1987 to Nov 4, 1988   \n",
              "14470         1  Finished Airing   False                  Mar 21, 1986   \n",
              "14471         1    Not yet aired   False                     Nov, 2018   \n",
              "14472         1  Finished Airing   False                 Not available   \n",
              "14473         1  Finished Airing   False                   Apr 7, 2010   \n",
              "\n",
              "                                            aired         duration  \\\n",
              "0      {'from': '2012-01-13', 'to': '2012-03-30'}  24 min. per ep.   \n",
              "1      {'from': '2007-04-02', 'to': '2007-10-01'}  24 min. per ep.   \n",
              "2      {'from': '2008-10-04', 'to': '2009-09-25'}  24 min. per ep.   \n",
              "3      {'from': '2002-08-16', 'to': '2003-05-23'}  16 min. per ep.   \n",
              "4      {'from': '2012-10-06', 'to': '2013-03-30'}  24 min. per ep.   \n",
              "...                                           ...              ...   \n",
              "14469  {'from': '1987-11-05', 'to': '1988-11-04'}   8 min. per ep.   \n",
              "14470  {'from': '1986-03-21', 'to': '1986-03-21'}          25 min.   \n",
              "14471                  {'from': None, 'to': None}          Unknown   \n",
              "14472                  {'from': None, 'to': None}          40 min.   \n",
              "14473  {'from': '2010-04-07', 'to': '2010-04-07'}           3 min.   \n",
              "\n",
              "                               rating  score  scored_by     rank  popularity  \\\n",
              "0           PG-13 - Teens 13 or older   7.63     139250   1274.0         231   \n",
              "1           PG-13 - Teens 13 or older   7.89      91206    727.0         366   \n",
              "2                       PG - Children   7.55      37129   1508.0        1173   \n",
              "3           PG-13 - Teens 13 or older   8.21      36501    307.0         916   \n",
              "4           PG-13 - Teens 13 or older   8.67     107767     50.0         426   \n",
              "...                               ...    ...        ...      ...         ...   \n",
              "14469                    G - All Ages   5.50          6  10337.0       13598   \n",
              "14470                    G - All Ages   4.60          5  10236.0       13284   \n",
              "14471  R - 17+ (violence & profanity)   0.00          0      NaN        7226   \n",
              "14472                    G - All Ages   6.00          1  11557.0       14334   \n",
              "14473       PG-13 - Teens 13 or older   5.15         47  12056.0        9767   \n",
              "\n",
              "       members  favorites                                         background  \\\n",
              "0       283882       2809  Inu x Boku SS was licensed by Sentai Filmworks...   \n",
              "1       204003       2579                                                NaN   \n",
              "2        70127        802                                                NaN   \n",
              "3        93312       3344  Princess Tutu aired in two parts. The first pa...   \n",
              "4       182765       2082                                                NaN   \n",
              "...        ...        ...                                                ...   \n",
              "14469       76          0                                                NaN   \n",
              "14470       90          0                                                NaN   \n",
              "14471     1741          0                                                NaN   \n",
              "14472       32          0                                                NaN   \n",
              "14473      476          0                                                NaN   \n",
              "\n",
              "         premiered           broadcast  \\\n",
              "0      Winter 2012  Fridays at Unknown   \n",
              "1      Spring 2007             Unknown   \n",
              "2        Fall 2008             Unknown   \n",
              "3      Summer 2002  Fridays at Unknown   \n",
              "4        Fall 2012             Unknown   \n",
              "...            ...                 ...   \n",
              "14469    Fall 1987             Unknown   \n",
              "14470          NaN                 NaN   \n",
              "14471          NaN                 NaN   \n",
              "14472          NaN                 NaN   \n",
              "14473          NaN                 NaN   \n",
              "\n",
              "                                                 related  \\\n",
              "0      {'Adaptation': [{'mal_id': 17207, 'type': 'man...   \n",
              "1      {'Adaptation': [{'mal_id': 759, 'type': 'manga...   \n",
              "2      {'Adaptation': [{'mal_id': 101, 'type': 'manga...   \n",
              "3      {'Adaptation': [{'mal_id': 1581, 'type': 'mang...   \n",
              "4      {'Adaptation': [{'mal_id': 9711, 'type': 'mang...   \n",
              "...                                                  ...   \n",
              "14469  {'Other': [{'mal_id': 26087, 'type': 'anime', ...   \n",
              "14470                                                 []   \n",
              "14471  {'Prequel': [{'mal_id': 36816, 'type': 'anime'...   \n",
              "14472                                                 []   \n",
              "14473  {'Other': [{'mal_id': 5507, 'type': 'anime', '...   \n",
              "\n",
              "                                                producer          licensor  \\\n",
              "0      Aniplex, Square Enix, Mainichi Broadcasting Sy...  Sentai Filmworks   \n",
              "1                      TV Tokyo, AIC, Square Enix, Sotsu        Funimation   \n",
              "2                                        TV Tokyo, Sotsu               NaN   \n",
              "3                     Memory-Tech, GANSIS, Marvelous AQL         ADV Films   \n",
              "4                                          NHK, Shueisha               NaN   \n",
              "...                                                  ...               ...   \n",
              "14469                                                NaN               NaN   \n",
              "14470                                       Studio Lotus               NaN   \n",
              "14471                                                NaN               NaN   \n",
              "14472                                                NaN               NaN   \n",
              "14473                                                NaN               NaN   \n",
              "\n",
              "                 studio                                     genre  \\\n",
              "0      David Production    Comedy, Supernatural, Romance, Shounen   \n",
              "1                 Gonzo  Comedy, Parody, Romance, School, Shounen   \n",
              "2             Satelight             Comedy, Magic, School, Shoujo   \n",
              "3        Hal Film Maker    Comedy, Drama, Magic, Romance, Fantasy   \n",
              "4             J.C.Staff           Comedy, Drama, Romance, Shounen   \n",
              "...                 ...                                       ...   \n",
              "14469               NaN                                      Kids   \n",
              "14470               NaN                                    Comedy   \n",
              "14471               NaN        Action, Sci-Fi, Adventure, Fantasy   \n",
              "14472               NaN                             Fantasy, Kids   \n",
              "14473      A-1 Pictures                                    Comedy   \n",
              "\n",
              "                                           opening_theme  \\\n",
              "0                                  ['\"Nirvana\" by MUCC']   \n",
              "1                     ['\"Romantic summer\" by SUN&LUNAR']   \n",
              "2      ['#1: \"Minna no Tamago (みんなのたまご)\" by Shugo Cha...   \n",
              "3                 ['\"Morning Grace\" by Ritsuko Okazaki']   \n",
              "4      ['#1: \"Moshimo no Hanashi (もしもの話)\" by nano.RIP...   \n",
              "...                                                  ...   \n",
              "14469                                                 []   \n",
              "14470                                                 []   \n",
              "14471                                                 []   \n",
              "14472                                                 []   \n",
              "14473                                                 []   \n",
              "\n",
              "                                            ending_theme  \n",
              "0      ['#1: \"Nirvana\" by MUCC (eps 1, 11-12)', '#2: ...  \n",
              "1      ['#1: \"Ashita e no Hikari (明日への光)\" by Asuka Hi...  \n",
              "2      ['#1: \"Rottara Rottara (ロッタラ ロッタラ)\" by Buono! ...  \n",
              "3      ['\"Watashi No Ai Wa Chiisaikeredo\" by Ritsuko ...  \n",
              "4      ['#1: \"Pride on Everyday\" by Sphere (eps 1-13)...  \n",
              "...                                                  ...  \n",
              "14469                                                 []  \n",
              "14470                                                 []  \n",
              "14471                                                 []  \n",
              "14472                                                 []  \n",
              "14473                                                 []  \n",
              "\n",
              "[14474 rows x 31 columns]"
            ]
          },
          "metadata": {
            "tags": []
          },
          "execution_count": 32
        }
      ]
    },
    {
      "cell_type": "markdown",
      "metadata": {
        "id": "tqaR9SoFxSqO",
        "colab_type": "text"
      },
      "source": [
        "### Gênero\n",
        "\n",
        "Ao analisar o banco de dados, queremos esclarecer se o gênero de um anime pode ou não impactar na sua nota ou popularidade.\n",
        "\n",
        "A nota é um número individual para cada anime. É a média da nota dada por todos os usuários do MyAnimeList que avaliaram o anime, e vai de 0 a 10.\n",
        "A popularidade é um número único para cada anime, de 1 a 14474 (número total de animes registrados), que ranqueia os animes por maior número de espectadores registrados.\n",
        "\n",
        "Vamos analisar a média de notas e a média de popularidade de animes e tentar traçar uma relação com o gênero.\n",
        "\n",
        "Separando os dados de forma mais organizada para isso:"
      ]
    },
    {
      "cell_type": "code",
      "metadata": {
        "id": "gTig9HsUxSqR",
        "colab_type": "code",
        "outputId": "cd3a8cf4-ba7c-4757-b6cc-20dac19af7b3",
        "colab": {
          "base_uri": "https://localhost:8080/",
          "height": 493
        }
      },
      "source": [
        "## Separando apenas os dados que serão usados\n",
        "anime_df = df[[\"anime_id\", \"title\", \"score\", \"rank\", \"popularity\", \"genre\"]]\n",
        "anime_df"
      ],
      "execution_count": 0,
      "outputs": [
        {
          "output_type": "execute_result",
          "data": {
            "text/html": [
              "<div>\n",
              "<style scoped>\n",
              "    .dataframe tbody tr th:only-of-type {\n",
              "        vertical-align: middle;\n",
              "    }\n",
              "\n",
              "    .dataframe tbody tr th {\n",
              "        vertical-align: top;\n",
              "    }\n",
              "\n",
              "    .dataframe thead th {\n",
              "        text-align: right;\n",
              "    }\n",
              "</style>\n",
              "<table border=\"1\" class=\"dataframe\">\n",
              "  <thead>\n",
              "    <tr style=\"text-align: right;\">\n",
              "      <th></th>\n",
              "      <th>anime_id</th>\n",
              "      <th>title</th>\n",
              "      <th>score</th>\n",
              "      <th>rank</th>\n",
              "      <th>popularity</th>\n",
              "      <th>genre</th>\n",
              "    </tr>\n",
              "  </thead>\n",
              "  <tbody>\n",
              "    <tr>\n",
              "      <th>0</th>\n",
              "      <td>11013</td>\n",
              "      <td>Inu x Boku SS</td>\n",
              "      <td>7.63</td>\n",
              "      <td>1274.0</td>\n",
              "      <td>231</td>\n",
              "      <td>Comedy, Supernatural, Romance, Shounen</td>\n",
              "    </tr>\n",
              "    <tr>\n",
              "      <th>1</th>\n",
              "      <td>2104</td>\n",
              "      <td>Seto no Hanayome</td>\n",
              "      <td>7.89</td>\n",
              "      <td>727.0</td>\n",
              "      <td>366</td>\n",
              "      <td>Comedy, Parody, Romance, School, Shounen</td>\n",
              "    </tr>\n",
              "    <tr>\n",
              "      <th>2</th>\n",
              "      <td>5262</td>\n",
              "      <td>Shugo Chara!! Doki</td>\n",
              "      <td>7.55</td>\n",
              "      <td>1508.0</td>\n",
              "      <td>1173</td>\n",
              "      <td>Comedy, Magic, School, Shoujo</td>\n",
              "    </tr>\n",
              "    <tr>\n",
              "      <th>3</th>\n",
              "      <td>721</td>\n",
              "      <td>Princess Tutu</td>\n",
              "      <td>8.21</td>\n",
              "      <td>307.0</td>\n",
              "      <td>916</td>\n",
              "      <td>Comedy, Drama, Magic, Romance, Fantasy</td>\n",
              "    </tr>\n",
              "    <tr>\n",
              "      <th>4</th>\n",
              "      <td>12365</td>\n",
              "      <td>Bakuman. 3rd Season</td>\n",
              "      <td>8.67</td>\n",
              "      <td>50.0</td>\n",
              "      <td>426</td>\n",
              "      <td>Comedy, Drama, Romance, Shounen</td>\n",
              "    </tr>\n",
              "    <tr>\n",
              "      <th>...</th>\n",
              "      <td>...</td>\n",
              "      <td>...</td>\n",
              "      <td>...</td>\n",
              "      <td>...</td>\n",
              "      <td>...</td>\n",
              "      <td>...</td>\n",
              "    </tr>\n",
              "    <tr>\n",
              "      <th>14469</th>\n",
              "      <td>26089</td>\n",
              "      <td>Gutchonpa Omoshiro Hanashi</td>\n",
              "      <td>5.50</td>\n",
              "      <td>10337.0</td>\n",
              "      <td>13598</td>\n",
              "      <td>Kids</td>\n",
              "    </tr>\n",
              "    <tr>\n",
              "      <th>14470</th>\n",
              "      <td>21525</td>\n",
              "      <td>Geba Geba Shou Time!</td>\n",
              "      <td>4.60</td>\n",
              "      <td>10236.0</td>\n",
              "      <td>13284</td>\n",
              "      <td>Comedy</td>\n",
              "    </tr>\n",
              "    <tr>\n",
              "      <th>14471</th>\n",
              "      <td>37897</td>\n",
              "      <td>Godzilla: Hoshi wo Kuu Mono</td>\n",
              "      <td>0.00</td>\n",
              "      <td>NaN</td>\n",
              "      <td>7226</td>\n",
              "      <td>Action, Sci-Fi, Adventure, Fantasy</td>\n",
              "    </tr>\n",
              "    <tr>\n",
              "      <th>14472</th>\n",
              "      <td>34193</td>\n",
              "      <td>Nippon Mukashibanashi: Sannen Netarou</td>\n",
              "      <td>6.00</td>\n",
              "      <td>11557.0</td>\n",
              "      <td>14334</td>\n",
              "      <td>Fantasy, Kids</td>\n",
              "    </tr>\n",
              "    <tr>\n",
              "      <th>14473</th>\n",
              "      <td>37908</td>\n",
              "      <td>Senjou no Valkyria Special</td>\n",
              "      <td>5.15</td>\n",
              "      <td>12056.0</td>\n",
              "      <td>9767</td>\n",
              "      <td>Comedy</td>\n",
              "    </tr>\n",
              "  </tbody>\n",
              "</table>\n",
              "<p>14474 rows × 6 columns</p>\n",
              "</div>"
            ],
            "text/plain": [
              "       anime_id                                  title  score     rank  \\\n",
              "0         11013                          Inu x Boku SS   7.63   1274.0   \n",
              "1          2104                       Seto no Hanayome   7.89    727.0   \n",
              "2          5262                     Shugo Chara!! Doki   7.55   1508.0   \n",
              "3           721                          Princess Tutu   8.21    307.0   \n",
              "4         12365                    Bakuman. 3rd Season   8.67     50.0   \n",
              "...         ...                                    ...    ...      ...   \n",
              "14469     26089             Gutchonpa Omoshiro Hanashi   5.50  10337.0   \n",
              "14470     21525                   Geba Geba Shou Time!   4.60  10236.0   \n",
              "14471     37897            Godzilla: Hoshi wo Kuu Mono   0.00      NaN   \n",
              "14472     34193  Nippon Mukashibanashi: Sannen Netarou   6.00  11557.0   \n",
              "14473     37908             Senjou no Valkyria Special   5.15  12056.0   \n",
              "\n",
              "       popularity                                     genre  \n",
              "0             231    Comedy, Supernatural, Romance, Shounen  \n",
              "1             366  Comedy, Parody, Romance, School, Shounen  \n",
              "2            1173             Comedy, Magic, School, Shoujo  \n",
              "3             916    Comedy, Drama, Magic, Romance, Fantasy  \n",
              "4             426           Comedy, Drama, Romance, Shounen  \n",
              "...           ...                                       ...  \n",
              "14469       13598                                      Kids  \n",
              "14470       13284                                    Comedy  \n",
              "14471        7226        Action, Sci-Fi, Adventure, Fantasy  \n",
              "14472       14334                             Fantasy, Kids  \n",
              "14473        9767                                    Comedy  \n",
              "\n",
              "[14474 rows x 6 columns]"
            ]
          },
          "metadata": {
            "tags": []
          },
          "execution_count": 33
        }
      ]
    },
    {
      "cell_type": "code",
      "metadata": {
        "id": "h386IQDNxSqa",
        "colab_type": "code",
        "outputId": "2f95ba7a-e46a-4161-bb19-82c96b6ad93f",
        "colab": {
          "base_uri": "https://localhost:8080/",
          "height": 147
        }
      },
      "source": [
        "## Tratando dados categóricos de gênero\n",
        "anime_df[\"genre\"] = anime_df[\"genre\"].str.replace(\" \", \"\")\n",
        "pd.set_option(\"display.max_columns\", 100)\n",
        "genres_df = anime_df[\"genre\"].str.get_dummies(sep=',')\n",
        "anime_df = anime_df.join(genres_df)"
      ],
      "execution_count": 0,
      "outputs": [
        {
          "output_type": "stream",
          "text": [
            "/usr/local/lib/python3.6/dist-packages/ipykernel_launcher.py:1: SettingWithCopyWarning: \n",
            "A value is trying to be set on a copy of a slice from a DataFrame.\n",
            "Try using .loc[row_indexer,col_indexer] = value instead\n",
            "\n",
            "See the caveats in the documentation: http://pandas.pydata.org/pandas-docs/stable/user_guide/indexing.html#returning-a-view-versus-a-copy\n",
            "  \"\"\"Entry point for launching an IPython kernel.\n"
          ],
          "name": "stderr"
        }
      ]
    },
    {
      "cell_type": "code",
      "metadata": {
        "id": "-wZ7M_1_xSqi",
        "colab_type": "code",
        "outputId": "60f230fb-ec3a-4fcb-f200-6423258691fd",
        "colab": {
          "base_uri": "https://localhost:8080/",
          "height": 237
        }
      },
      "source": [
        "## Criando uma lista com todos os gêneros\n",
        "list_of_genres = genres_df.apply(pd.Series.value_counts).iloc[1].sort_values(ascending = False)\n",
        "list_of_genres"
      ],
      "execution_count": 0,
      "outputs": [
        {
          "output_type": "execute_result",
          "data": {
            "text/plain": [
              "Comedy       5250\n",
              "Action       3253\n",
              "Fantasy      2701\n",
              "Adventure    2582\n",
              "Drama        2294\n",
              "             ... \n",
              "Josei          81\n",
              "ShounenAi      79\n",
              "ShoujoAi       67\n",
              "Yuri           41\n",
              "Yaoi           39\n",
              "Name: 1, Length: 43, dtype: int64"
            ]
          },
          "metadata": {
            "tags": []
          },
          "execution_count": 35
        }
      ]
    },
    {
      "cell_type": "code",
      "metadata": {
        "scrolled": true,
        "id": "MTBQED1ExSqr",
        "colab_type": "code",
        "outputId": "76725d70-b956-45ab-ea47-3f102922187d",
        "colab": {
          "base_uri": "https://localhost:8080/",
          "height": 279
        }
      },
      "source": [
        "# Histograma das notas de todos os animes\n",
        "plt.hist(anime_df[\"score\"], bins = 20)\n",
        "score_mean = anime_df[\"score\"].mean()\n",
        "mean_line = plt.axvline(x=score_mean, lw=3, color='red', label='Média Observada')\n",
        "plt.legend()\n",
        "plt.ylabel('Quantidade de animes')\n",
        "plt.xlabel('Nota')\n",
        "\n",
        "plt.show()"
      ],
      "execution_count": 0,
      "outputs": [
        {
          "output_type": "display_data",
          "data": {
            "image/png": "[encoded data removed]",
            "text/plain": [
              "<Figure size 432x288 with 1 Axes>"
            ]
          },
          "metadata": {
            "tags": []
          }
        }
      ]
    },
    {
      "cell_type": "code",
      "metadata": {
        "id": "u8_MmRVlxSqx",
        "colab_type": "code",
        "outputId": "310a9ccb-5b68-45f6-de3f-7f7f5fd617da",
        "colab": {
          "base_uri": "https://localhost:8080/",
          "height": 513
        }
      },
      "source": [
        "## Computando a estatística de teste (média de nota) para uma amostra da população\n",
        "def compute_mean(df, column):\n",
        "    return df[column].mean()\n",
        "\n",
        "## Gerando uma amostra aleatória de 100 (ou outro número) animes da população, sem reposição\n",
        "def compute_mean_random_sample(df, column, size=100):\n",
        "    random_sample = df.sample(n=size, replace=False)\n",
        "    return compute_mean(random_sample, column)\n",
        "\n",
        "## Fazendo 10000 (ou outro número) de amostras aleatórias e computando a estatística\n",
        "def compute_mean_model(df, column, sample_size=100, sample_count=10000):\n",
        "    sample_means = np.array([])\n",
        "    for i in range(sample_count):\n",
        "        sample_means = np.append(sample_means, np.array([compute_mean_random_sample(df, column, size=sample_size)]))\n",
        "    return sample_means\n",
        "\n",
        "random_score_results = compute_mean_model(anime_df, \"score\")\n",
        "plt.hist(random_score_results, bins = 20)\n",
        "plt.show()\n",
        "random_pop_results = compute_mean_model(anime_df, \"popularity\")\n",
        "plt.hist(random_pop_results, bins = 20)\n",
        "plt.show()\n",
        "\n",
        "def compute_confidence_interval(array, conf=99):\n",
        "    conf_dist = 100 - conf\n",
        "    return np.array([np.percentile(array, conf_dist), np.percentile(array, conf)])\n",
        "\n",
        "score_confidence_interval = compute_confidence_interval(random_score_results)\n",
        "pop_confidence_interval = compute_confidence_interval(random_pop_results)"
      ],
      "execution_count": 0,
      "outputs": [
        {
          "output_type": "display_data",
          "data": {
            "image/png": "[encoded data removed]",
            "text/plain": [
              "<Figure size 432x288 with 1 Axes>"
            ]
          },
          "metadata": {
            "tags": []
          }
        },
        {
          "output_type": "display_data",
          "data": {
            "image/png": "[encoded data removed]",
            "text/plain": [
              "<Figure size 432x288 with 1 Axes>"
            ]
          },
          "metadata": {
            "tags": []
          }
        }
      ]
    },
    {
      "cell_type": "markdown",
      "metadata": {
        "id": "sXLRpAZtxSq6",
        "colab_type": "text"
      },
      "source": [
        "O gráfico acima é o histograma da média das notas de 10000 amostras aleatórias de 100 animes, tiradas da população original. Representa a hipótese nula, ou seja, um modelo em que a diferença de média de nota de animes é apenas devido à chance.\n",
        "\n",
        "Para o teste, é pegada a média de animes com gêneros específicos, e comparada ao dado histograma, para verificar se a hipótese nula pode ou não ser confirmada:"
      ]
    },
    {
      "cell_type": "code",
      "metadata": {
        "id": "f-5B9TFAxSq9",
        "colab_type": "code",
        "colab": {}
      },
      "source": [
        "## Plotando os testes de hipótese\n",
        "\n",
        "def plot_hypothesis_test_genre(results, column, conf_interval):\n",
        "    plt.figure(figsize=(20,10)) \n",
        "    plt.hist(results, bins = 20, alpha=0.6)\n",
        "    for genre in list_of_genres.index.values:\n",
        "        genre_mean = anime_df.loc[anime_df[genre] == 1][column].mean()\n",
        "        plt.scatter(genre_mean, 0, color=np.random.rand(3,), label=genre)\n",
        "    plt.legend(loc=2, prop={'size': 12}, ncol=3)\n",
        "    plt.xlabel(column)\n",
        "    plt.axvline(x=conf_interval[0], lw=1.5, color='red')\n",
        "    plt.axvline(x=conf_interval[1], lw=1.5, color='red')\n",
        "    plt.show()"
      ],
      "execution_count": 0,
      "outputs": []
    },
    {
      "cell_type": "code",
      "metadata": {
        "id": "6g3ScKjoxSrE",
        "colab_type": "code",
        "outputId": "7cc6c80b-8b86-4700-ee81-29e4053059ff",
        "colab": {
          "base_uri": "https://localhost:8080/",
          "height": 626
        }
      },
      "source": [
        "plot_hypothesis_test_genre(random_score_results, \"score\", score_confidence_interval)"
      ],
      "execution_count": 0,
      "outputs": [
        {
          "output_type": "display_data",
          "data": {
            "image/png": "[encoded data removed]",
            "text/plain": [
              "<Figure size 1440x720 with 1 Axes>"
            ]
          },
          "metadata": {
            "tags": []
          }
        }
      ]
    },
    {
      "cell_type": "markdown",
      "metadata": {
        "id": "MbGvaxURxSrN",
        "colab_type": "text"
      },
      "source": [
        "As linhas verticais vermelhas são o intervalo de confiança de 99% do modelo aleatório.\n",
        "\n",
        "Observando o gráfico acima, é claro que vários gêneros estão fora desse intervalo de confiança, logo pode-se rejeitar com algum grau de certeza a hipótese nula de que a variação de nota de animes seria apenas por chance.\n",
        "\n",
        "Além disso, pode-se dizer que as estatísticas favorecem a hipótese alternativa de que o gênero impacta na nota de um anime. Animes de gêneros mais populares (como Shounen e Mistério, por exemplo) estão com médias de notas bem mais altas em relação ao modelo aleatório (6.86 e 6.87, respectivamente), enquanto animes de gêneros menos populares (como Dementia e Música) tem médias menores (4.93 e 5.41, respectivamente).\n",
        "\n"
      ]
    },
    {
      "cell_type": "code",
      "metadata": {
        "scrolled": false,
        "id": "BTp6xlWExSrQ",
        "colab_type": "code",
        "outputId": "3e409afd-01d6-4de9-9eff-d056b76b8ae2",
        "colab": {
          "base_uri": "https://localhost:8080/",
          "height": 626
        }
      },
      "source": [
        "plot_hypothesis_test_genre(random_pop_results, \"popularity\", pop_confidence_interval)"
      ],
      "execution_count": 0,
      "outputs": [
        {
          "output_type": "display_data",
          "data": {
            "image/png": "[encoded data removed]",
            "text/plain": [
              "<Figure size 1440x720 with 1 Axes>"
            ]
          },
          "metadata": {
            "tags": []
          }
        }
      ]
    },
    {
      "cell_type": "markdown",
      "metadata": {
        "id": "Rle4JM0oxSrW",
        "colab_type": "text"
      },
      "source": [
        "Observando o segundo gráfico acima, é claro que vários gêneros também estão fora do intervalo de confiança, logo pode-se rejeitar com algum grau de certeza a hipótese nula de que a variação de popularidade de animes seria apenas por chance.\n",
        "\n",
        "Além disso, pode-se dizer que as estatísticas favorecem a hipótese alternativa de que o gênero impacta na popularidade de um anime. Alguns gêneros estão bem mais populares do que a popularidade média (como Harem e ShoujoAi), e a maioria deles acima do intervalo de confiança."
      ]
    },
    {
      "cell_type": "markdown",
      "metadata": {
        "id": "uXeHpgSPxSrY",
        "colab_type": "text"
      },
      "source": [
        "### Número de episódios\n",
        "\n",
        "Pode ser feita uma análise semelhante à feita com gênero mas com o número de episódios de um anime. Um anime ser maior em extensão (mais episódios) impacta na nota/popularidade dele?\n",
        "\n",
        "Já temos os histogramas de nota e popularidade das amostras aleatórias, que podem ser reaproveitados. Vamos escolher uma média de nota e popularidade para animes com um número de episódios maior do que uma porcentagem de todos os animes (digamos maiores que 95% dos animes registrados)."
      ]
    },
    {
      "cell_type": "code",
      "metadata": {
        "id": "bvkB9t4PxSra",
        "colab_type": "code",
        "outputId": "e97540d4-925f-4889-d1c9-85863269fe6b",
        "colab": {
          "base_uri": "https://localhost:8080/",
          "height": 424
        }
      },
      "source": [
        "anime_df = df[[\"anime_id\", \"title\", \"score\", \"popularity\", \"episodes\"]].sort_values(by=['episodes'], ascending=False)\n",
        "\n",
        "## Conseguindo a média de episódios de animes acima de uma porcentagem do restante\n",
        "def get_episode_threshold_mean(df, threshold):\n",
        "    threshold_episodes = int(np.percentile(df[\"episodes\"], threshold))\n",
        "    top_episode_anime = anime_df.loc[anime_df[\"episodes\"] >= threshold_episodes]\n",
        "    return top_episode_anime\n",
        "\n",
        "## Por exemplo, dar a média de episódio dos 5% de animes com mais episódios no total\n",
        "get_episode_threshold_mean(anime_df, 95)"
      ],
      "execution_count": 0,
      "outputs": [
        {
          "output_type": "execute_result",
          "data": {
            "text/html": [
              "<div>\n",
              "<style scoped>\n",
              "    .dataframe tbody tr th:only-of-type {\n",
              "        vertical-align: middle;\n",
              "    }\n",
              "\n",
              "    .dataframe tbody tr th {\n",
              "        vertical-align: top;\n",
              "    }\n",
              "\n",
              "    .dataframe thead th {\n",
              "        text-align: right;\n",
              "    }\n",
              "</style>\n",
              "<table border=\"1\" class=\"dataframe\">\n",
              "  <thead>\n",
              "    <tr style=\"text-align: right;\">\n",
              "      <th></th>\n",
              "      <th>anime_id</th>\n",
              "      <th>title</th>\n",
              "      <th>score</th>\n",
              "      <th>popularity</th>\n",
              "      <th>episodes</th>\n",
              "    </tr>\n",
              "  </thead>\n",
              "  <tbody>\n",
              "    <tr>\n",
              "      <th>11627</th>\n",
              "      <td>12393</td>\n",
              "      <td>Oyako Club</td>\n",
              "      <td>5.96</td>\n",
              "      <td>10337</td>\n",
              "      <td>1818</td>\n",
              "    </tr>\n",
              "    <tr>\n",
              "      <th>11216</th>\n",
              "      <td>2471</td>\n",
              "      <td>Doraemon (1979)</td>\n",
              "      <td>7.73</td>\n",
              "      <td>2666</td>\n",
              "      <td>1787</td>\n",
              "    </tr>\n",
              "    <tr>\n",
              "      <th>3814</th>\n",
              "      <td>23349</td>\n",
              "      <td>Kirin Monoshiri Yakata</td>\n",
              "      <td>5.98</td>\n",
              "      <td>11264</td>\n",
              "      <td>1565</td>\n",
              "    </tr>\n",
              "    <tr>\n",
              "      <th>3815</th>\n",
              "      <td>6277</td>\n",
              "      <td>Manga Nippon Mukashibanashi (1976)</td>\n",
              "      <td>6.37</td>\n",
              "      <td>9150</td>\n",
              "      <td>1471</td>\n",
              "    </tr>\n",
              "    <tr>\n",
              "      <th>7764</th>\n",
              "      <td>8213</td>\n",
              "      <td>Hoka Hoka Kazoku</td>\n",
              "      <td>5.93</td>\n",
              "      <td>10491</td>\n",
              "      <td>1428</td>\n",
              "    </tr>\n",
              "    <tr>\n",
              "      <th>...</th>\n",
              "      <td>...</td>\n",
              "      <td>...</td>\n",
              "      <td>...</td>\n",
              "      <td>...</td>\n",
              "      <td>...</td>\n",
              "    </tr>\n",
              "    <tr>\n",
              "      <th>3806</th>\n",
              "      <td>10528</td>\n",
              "      <td>Duel Masters Cross Shock</td>\n",
              "      <td>6.41</td>\n",
              "      <td>7846</td>\n",
              "      <td>50</td>\n",
              "    </tr>\n",
              "    <tr>\n",
              "      <th>11911</th>\n",
              "      <td>11017</td>\n",
              "      <td>Battle Spirits: Heroes</td>\n",
              "      <td>6.57</td>\n",
              "      <td>8043</td>\n",
              "      <td>50</td>\n",
              "    </tr>\n",
              "    <tr>\n",
              "      <th>10781</th>\n",
              "      <td>13179</td>\n",
              "      <td>Little Charo 2</td>\n",
              "      <td>5.95</td>\n",
              "      <td>11752</td>\n",
              "      <td>50</td>\n",
              "    </tr>\n",
              "    <tr>\n",
              "      <th>8825</th>\n",
              "      <td>150</td>\n",
              "      <td>Blood+</td>\n",
              "      <td>7.76</td>\n",
              "      <td>277</td>\n",
              "      <td>50</td>\n",
              "    </tr>\n",
              "    <tr>\n",
              "      <th>1274</th>\n",
              "      <td>1891</td>\n",
              "      <td>YAT Anshin! Uchuu Ryokou</td>\n",
              "      <td>7.16</td>\n",
              "      <td>8015</td>\n",
              "      <td>50</td>\n",
              "    </tr>\n",
              "  </tbody>\n",
              "</table>\n",
              "<p>768 rows × 5 columns</p>\n",
              "</div>"
            ],
            "text/plain": [
              "       anime_id                               title  score  popularity  \\\n",
              "11627     12393                          Oyako Club   5.96       10337   \n",
              "11216      2471                     Doraemon (1979)   7.73        2666   \n",
              "3814      23349              Kirin Monoshiri Yakata   5.98       11264   \n",
              "3815       6277  Manga Nippon Mukashibanashi (1976)   6.37        9150   \n",
              "7764       8213                    Hoka Hoka Kazoku   5.93       10491   \n",
              "...         ...                                 ...    ...         ...   \n",
              "3806      10528            Duel Masters Cross Shock   6.41        7846   \n",
              "11911     11017              Battle Spirits: Heroes   6.57        8043   \n",
              "10781     13179                      Little Charo 2   5.95       11752   \n",
              "8825        150                              Blood+   7.76         277   \n",
              "1274       1891            YAT Anshin! Uchuu Ryokou   7.16        8015   \n",
              "\n",
              "       episodes  \n",
              "11627      1818  \n",
              "11216      1787  \n",
              "3814       1565  \n",
              "3815       1471  \n",
              "7764       1428  \n",
              "...         ...  \n",
              "3806         50  \n",
              "11911        50  \n",
              "10781        50  \n",
              "8825         50  \n",
              "1274         50  \n",
              "\n",
              "[768 rows x 5 columns]"
            ]
          },
          "metadata": {
            "tags": []
          },
          "execution_count": 41
        }
      ]
    },
    {
      "cell_type": "code",
      "metadata": {
        "id": "nlYN7wvpxSrh",
        "colab_type": "code",
        "colab": {}
      },
      "source": [
        "## Plotando os testes de hipótese para número de episódios\n",
        "def plot_hypothesis_test_episodes(results, column, conf_interval):\n",
        "    plt.figure(figsize=(10,5)) \n",
        "    plt.hist(results, bins = 20, alpha=0.6)\n",
        "    \n",
        "    top_episodes = get_episode_threshold_mean(anime_df, 95)\n",
        "    top_ep_mean = top_episodes[column].mean()\n",
        "    plt.scatter(top_ep_mean, 0, color='orange', label=\"top 5%\")\n",
        "    plt.legend(loc=2, prop={'size': 12}, ncol=3)\n",
        "    plt.xlabel(column)\n",
        "    plt.axvline(x=conf_interval[0], lw=1.5, color='red')\n",
        "    plt.axvline(x=conf_interval[1], lw=1.5, color='red')\n",
        "    plt.show()"
      ],
      "execution_count": 0,
      "outputs": []
    },
    {
      "cell_type": "code",
      "metadata": {
        "id": "DGO99ue8xSrm",
        "colab_type": "code",
        "outputId": "57d07bf5-faa6-4a33-fc14-c1d7ebaf7f3d",
        "colab": {
          "base_uri": "https://localhost:8080/",
          "height": 334
        }
      },
      "source": [
        "plot_hypothesis_test_episodes(random_score_results, \"score\", score_confidence_interval)"
      ],
      "execution_count": 0,
      "outputs": [
        {
          "output_type": "display_data",
          "data": {
            "image/png": "[encoded data removed]",
            "text/plain": [
              "<Figure size 720x360 with 1 Axes>"
            ]
          },
          "metadata": {
            "tags": []
          }
        }
      ]
    },
    {
      "cell_type": "markdown",
      "metadata": {
        "id": "B3mtgUDmxSrt",
        "colab_type": "text"
      },
      "source": [
        "Observando o gráfico acima, é evidente que os animes com mais episódios estão fora desse intervalo de confiança, logo pode-se rejeitar com algum grau de certeza a hipótese nula de que a variação de nota de animes seria apenas por chance.\n",
        "\n",
        "Além disso, pode-se dizer que as estatísticas favorecem a hipótese alternativa de que o número de episódios impacta na nota de um anime, já que os 5% de animes com mais episódios estão longe do intervalo de confiança determinado para notas."
      ]
    },
    {
      "cell_type": "code",
      "metadata": {
        "id": "UHPHrqLIxSrv",
        "colab_type": "code",
        "outputId": "2e8eb387-fb41-49d7-dbd3-0a117346ffd2",
        "colab": {
          "base_uri": "https://localhost:8080/",
          "height": 334
        }
      },
      "source": [
        "plot_hypothesis_test_episodes(random_pop_results, \"popularity\", pop_confidence_interval)"
      ],
      "execution_count": 0,
      "outputs": [
        {
          "output_type": "display_data",
          "data": {
            "image/png": "[encoded data removed]",
            "text/plain": [
              "<Figure size 720x360 with 1 Axes>"
            ]
          },
          "metadata": {
            "tags": []
          }
        }
      ]
    },
    {
      "cell_type": "markdown",
      "metadata": {
        "id": "1aEN55w8xSr3",
        "colab_type": "text"
      },
      "source": [
        "Entretanto, o gráfico de popularidade mostra uma diferença. A observação condiz quase que perfeitamente com a média das amostras aleatórias. \n",
        "\n",
        "Com isso, pode-se concluir que, nesse caso, a hipótese nula de que o número de episódios não impacta na popularidade de um anime (e variações são apenas devido ao acaso) é válida."
      ]
    },
    {
      "cell_type": "markdown",
      "metadata": {
        "id": "dwZQk0oqxSr5",
        "colab_type": "text"
      },
      "source": [
        "### Temporada de lançamento\n",
        "\n",
        "Pode ser feita uma análise semelhante às feitas anteriormente com a temporada (ou estação) de lançamento de um anime. Dada uma estação, o anime é impactado em nota/popularidade por sua temporada de lançamento?\n",
        "\n",
        "Nessa análise, devemos tomar um cuidado: alguns animes não tem dados de temporada de lançamento. Nesse caso, as amostras aleatórias de média de nota e popularidade serão refeitas, mas considerando apenas animes que tem temporada de lançamento no banco de dados."
      ]
    },
    {
      "cell_type": "code",
      "metadata": {
        "id": "rBaThTTBxSr7",
        "colab_type": "code",
        "outputId": "77be701c-a1fa-4247-e23d-8f24f298c72e",
        "colab": {
          "base_uri": "https://localhost:8080/",
          "height": 554
        }
      },
      "source": [
        "## Separando os animes por estação/temporada de lançamento\n",
        "anime_df = df[[\"anime_id\", \"title\", \"score\", \"popularity\", \"premiered\"]]\n",
        "\n",
        "anime_df[\"premiered\"] = df[\"premiered\"].str.split().str[0]\n",
        "\n",
        "## Deixando apenas aqueles que possuem dados de temporada\n",
        "anime_df = anime_df.dropna(axis=0)\n",
        "anime_df"
      ],
      "execution_count": 0,
      "outputs": [
        {
          "output_type": "stream",
          "text": [
            "/usr/local/lib/python3.6/dist-packages/ipykernel_launcher.py:3: SettingWithCopyWarning: \n",
            "A value is trying to be set on a copy of a slice from a DataFrame.\n",
            "Try using .loc[row_indexer,col_indexer] = value instead\n",
            "\n",
            "See the caveats in the documentation: http://pandas.pydata.org/pandas-docs/stable/user_guide/indexing.html#returning-a-view-versus-a-copy\n",
            "  This is separate from the ipykernel package so we can avoid doing imports until\n"
          ],
          "name": "stderr"
        },
        {
          "output_type": "execute_result",
          "data": {
            "text/html": [
              "<div>\n",
              "<style scoped>\n",
              "    .dataframe tbody tr th:only-of-type {\n",
              "        vertical-align: middle;\n",
              "    }\n",
              "\n",
              "    .dataframe tbody tr th {\n",
              "        vertical-align: top;\n",
              "    }\n",
              "\n",
              "    .dataframe thead th {\n",
              "        text-align: right;\n",
              "    }\n",
              "</style>\n",
              "<table border=\"1\" class=\"dataframe\">\n",
              "  <thead>\n",
              "    <tr style=\"text-align: right;\">\n",
              "      <th></th>\n",
              "      <th>anime_id</th>\n",
              "      <th>title</th>\n",
              "      <th>score</th>\n",
              "      <th>popularity</th>\n",
              "      <th>premiered</th>\n",
              "    </tr>\n",
              "  </thead>\n",
              "  <tbody>\n",
              "    <tr>\n",
              "      <th>0</th>\n",
              "      <td>11013</td>\n",
              "      <td>Inu x Boku SS</td>\n",
              "      <td>7.63</td>\n",
              "      <td>231</td>\n",
              "      <td>Winter</td>\n",
              "    </tr>\n",
              "    <tr>\n",
              "      <th>1</th>\n",
              "      <td>2104</td>\n",
              "      <td>Seto no Hanayome</td>\n",
              "      <td>7.89</td>\n",
              "      <td>366</td>\n",
              "      <td>Spring</td>\n",
              "    </tr>\n",
              "    <tr>\n",
              "      <th>2</th>\n",
              "      <td>5262</td>\n",
              "      <td>Shugo Chara!! Doki</td>\n",
              "      <td>7.55</td>\n",
              "      <td>1173</td>\n",
              "      <td>Fall</td>\n",
              "    </tr>\n",
              "    <tr>\n",
              "      <th>3</th>\n",
              "      <td>721</td>\n",
              "      <td>Princess Tutu</td>\n",
              "      <td>8.21</td>\n",
              "      <td>916</td>\n",
              "      <td>Summer</td>\n",
              "    </tr>\n",
              "    <tr>\n",
              "      <th>4</th>\n",
              "      <td>12365</td>\n",
              "      <td>Bakuman. 3rd Season</td>\n",
              "      <td>8.67</td>\n",
              "      <td>426</td>\n",
              "      <td>Fall</td>\n",
              "    </tr>\n",
              "    <tr>\n",
              "      <th>...</th>\n",
              "      <td>...</td>\n",
              "      <td>...</td>\n",
              "      <td>...</td>\n",
              "      <td>...</td>\n",
              "      <td>...</td>\n",
              "    </tr>\n",
              "    <tr>\n",
              "      <th>14395</th>\n",
              "      <td>37778</td>\n",
              "      <td>Pastel Life</td>\n",
              "      <td>6.62</td>\n",
              "      <td>7722</td>\n",
              "      <td>Spring</td>\n",
              "    </tr>\n",
              "    <tr>\n",
              "      <th>14410</th>\n",
              "      <td>37662</td>\n",
              "      <td>Shinya! Tensai Bakabon</td>\n",
              "      <td>0.00</td>\n",
              "      <td>12783</td>\n",
              "      <td>Summer</td>\n",
              "    </tr>\n",
              "    <tr>\n",
              "      <th>14438</th>\n",
              "      <td>37428</td>\n",
              "      <td>Chara to Otamajakushi Shima</td>\n",
              "      <td>0.00</td>\n",
              "      <td>14456</td>\n",
              "      <td>Spring</td>\n",
              "    </tr>\n",
              "    <tr>\n",
              "      <th>14459</th>\n",
              "      <td>37787</td>\n",
              "      <td>Space Bug</td>\n",
              "      <td>0.00</td>\n",
              "      <td>14280</td>\n",
              "      <td>Summer</td>\n",
              "    </tr>\n",
              "    <tr>\n",
              "      <th>14469</th>\n",
              "      <td>26089</td>\n",
              "      <td>Gutchonpa Omoshiro Hanashi</td>\n",
              "      <td>5.50</td>\n",
              "      <td>13598</td>\n",
              "      <td>Fall</td>\n",
              "    </tr>\n",
              "  </tbody>\n",
              "</table>\n",
              "<p>4096 rows × 5 columns</p>\n",
              "</div>"
            ],
            "text/plain": [
              "       anime_id                        title  score  popularity premiered\n",
              "0         11013                Inu x Boku SS   7.63         231    Winter\n",
              "1          2104             Seto no Hanayome   7.89         366    Spring\n",
              "2          5262           Shugo Chara!! Doki   7.55        1173      Fall\n",
              "3           721                Princess Tutu   8.21         916    Summer\n",
              "4         12365          Bakuman. 3rd Season   8.67         426      Fall\n",
              "...         ...                          ...    ...         ...       ...\n",
              "14395     37778                  Pastel Life   6.62        7722    Spring\n",
              "14410     37662       Shinya! Tensai Bakabon   0.00       12783    Summer\n",
              "14438     37428  Chara to Otamajakushi Shima   0.00       14456    Spring\n",
              "14459     37787                    Space Bug   0.00       14280    Summer\n",
              "14469     26089   Gutchonpa Omoshiro Hanashi   5.50       13598      Fall\n",
              "\n",
              "[4096 rows x 5 columns]"
            ]
          },
          "metadata": {
            "tags": []
          },
          "execution_count": 45
        }
      ]
    },
    {
      "cell_type": "code",
      "metadata": {
        "id": "n8gnqf5pxSsC",
        "colab_type": "code",
        "outputId": "ff6382a1-c370-453e-ed3f-157be45b4228",
        "colab": {
          "base_uri": "https://localhost:8080/",
          "height": 513
        }
      },
      "source": [
        "## Refazendo os resultados da amostragem para apenas animes com dados de temporada no banco\n",
        "\n",
        "random_score_results = compute_mean_model(anime_df, \"score\")\n",
        "plt.hist(random_score_results, bins = 20)\n",
        "plt.show()\n",
        "random_pop_results = compute_mean_model(anime_df, \"popularity\")\n",
        "plt.hist(random_pop_results, bins = 20)\n",
        "plt.show()\n",
        "\n",
        "score_confidence_interval = compute_confidence_interval(random_score_results)\n",
        "pop_confidence_interval = compute_confidence_interval(random_pop_results)"
      ],
      "execution_count": 0,
      "outputs": [
        {
          "output_type": "display_data",
          "data": {
            "image/png": "[encoded data removed]",
            "text/plain": [
              "<Figure size 432x288 with 1 Axes>"
            ]
          },
          "metadata": {
            "tags": []
          }
        },
        {
          "output_type": "display_data",
          "data": {
            "image/png": "[encoded data removed]",
            "text/plain": [
              "<Figure size 432x288 with 1 Axes>"
            ]
          },
          "metadata": {
            "tags": []
          }
        }
      ]
    },
    {
      "cell_type": "code",
      "metadata": {
        "id": "rUf1R7fOxSsH",
        "colab_type": "code",
        "colab": {}
      },
      "source": [
        "## Lista de temporadas\n",
        "list_of_seasons = [\"Spring\", \"Summer\", \"Fall\", \"Winter\"]"
      ],
      "execution_count": 0,
      "outputs": []
    },
    {
      "cell_type": "code",
      "metadata": {
        "id": "ez4xNwh-xSsL",
        "colab_type": "code",
        "colab": {}
      },
      "source": [
        "## Plotando os testes de hipótese\n",
        "\n",
        "def plot_hypothesis_test_season(results, column, conf_interval):\n",
        "    plt.figure(figsize=(10,5)) \n",
        "    plt.hist(results, bins = 20, alpha=0.6)\n",
        "    for season in list_of_seasons:\n",
        "        season_mean = anime_df.loc[anime_df[\"premiered\"] == season][column].mean()\n",
        "        plt.scatter(season_mean, 0, color=np.random.rand(3,), label=season)\n",
        "    plt.legend(loc=2, prop={'size': 12})\n",
        "    plt.xlabel(column)\n",
        "    plt.axvline(x=conf_interval[0], lw=1.5, color='red')\n",
        "    plt.axvline(x=conf_interval[1], lw=1.5, color='red')\n",
        "    plt.show()"
      ],
      "execution_count": 0,
      "outputs": []
    },
    {
      "cell_type": "code",
      "metadata": {
        "scrolled": true,
        "id": "c1IHBUyfxSsT",
        "colab_type": "code",
        "outputId": "5f694320-2a64-4552-b5ca-0870e4e63141",
        "colab": {
          "base_uri": "https://localhost:8080/",
          "height": 334
        }
      },
      "source": [
        "plot_hypothesis_test_season(random_score_results, \"score\", score_confidence_interval)"
      ],
      "execution_count": 0,
      "outputs": [
        {
          "output_type": "display_data",
          "data": {
            "image/png": "[encoded data removed]",
            "text/plain": [
              "<Figure size 720x360 with 1 Axes>"
            ]
          },
          "metadata": {
            "tags": []
          }
        }
      ]
    },
    {
      "cell_type": "markdown",
      "metadata": {
        "id": "wZ13BAdLxSsX",
        "colab_type": "text"
      },
      "source": [
        "Pelos resultados acima, a hipótese nula de que a temporada não impacta na nota do anime (e que variações são apenas devido ao acaso) pode ser descartada, já que a média de nota de animes lançados no verão está fora do intervalo de confiança estipulado.\n",
        "\n",
        "Essa evidência favorece a hipótese alternativa de que animes lançados no verão são mais bem avaliados que outros (possivelmente por ser uma boa temporada para lançar, coincidindo com o período de férias escolares)"
      ]
    },
    {
      "cell_type": "code",
      "metadata": {
        "scrolled": true,
        "id": "U_GMZC-gxSsY",
        "colab_type": "code",
        "outputId": "5697abb5-efb0-4efd-c7e1-cff9e41a89dc",
        "colab": {
          "base_uri": "https://localhost:8080/",
          "height": 334
        }
      },
      "source": [
        "plot_hypothesis_test_season(random_pop_results, \"popularity\", pop_confidence_interval)"
      ],
      "execution_count": 0,
      "outputs": [
        {
          "output_type": "display_data",
          "data": {
            "image/png": "[encoded data removed]",
            "text/plain": [
              "<Figure size 720x360 with 1 Axes>"
            ]
          },
          "metadata": {
            "tags": []
          }
        }
      ]
    },
    {
      "cell_type": "markdown",
      "metadata": {
        "id": "gB2Zufy_xSsg",
        "colab_type": "text"
      },
      "source": [
        "O mesmo não pode ser dito para a popularidade de animes, e os testes confirmam a hipótese nula de que a temporada de lançamento não afeta a popularidade do anime (e que variações são devidas ao acaso)."
      ]
    },
    {
      "cell_type": "markdown",
      "metadata": {
        "id": "ASL8Ja6yxSsh",
        "colab_type": "text"
      },
      "source": [
        "## KNN"
      ]
    },
    {
      "cell_type": "markdown",
      "metadata": {
        "id": "5YCWY0XoCXDA",
        "colab_type": "text"
      },
      "source": [
        "Queremos descobrir se é possível determinar os gêneros a partir dos atributos de cada anime, mais especificamente, usando o número de episódios, popularidade e nota de avaliação dos usuários. Para tal, vamos aplicar o a classificação a partir dos K Nearest Neighbours.\n",
        "\n",
        "Cada anime observado pode pertencer a mais de um gênero, e portanto precisamos de classificador que suporte múltiplas labels. Adotaremos então a estratégia do OneVsRest."
      ]
    },
    {
      "cell_type": "code",
      "metadata": {
        "id": "PJqMAuVIxSsi",
        "colab_type": "code",
        "outputId": "624b4d5a-5fce-4493-f4ba-4b2ab10a2d23",
        "colab": {
          "base_uri": "https://localhost:8080/",
          "height": 511
        }
      },
      "source": [
        "#leitura dos dados iniciais. Filtramos o dataset para conter apenas observações que tenham mais de um episódio,\n",
        "#para desconsiderar filmes\n",
        "\n",
        "df = pd.read_csv(\"anime_cleaned.csv\")\n",
        "df = df[['anime_id', 'title', 'episodes', 'popularity', 'score', 'genre']]\n",
        "df = df.loc[df['episodes'] > 1] #seleciona apenas animes com mais de 1 episodio\n",
        "\n",
        "animes = df.copy()\n",
        "animes"
      ],
      "execution_count": 0,
      "outputs": [
        {
          "output_type": "execute_result",
          "data": {
            "text/html": [
              "<div>\n",
              "<style scoped>\n",
              "    .dataframe tbody tr th:only-of-type {\n",
              "        vertical-align: middle;\n",
              "    }\n",
              "\n",
              "    .dataframe tbody tr th {\n",
              "        vertical-align: top;\n",
              "    }\n",
              "\n",
              "    .dataframe thead th {\n",
              "        text-align: right;\n",
              "    }\n",
              "</style>\n",
              "<table border=\"1\" class=\"dataframe\">\n",
              "  <thead>\n",
              "    <tr style=\"text-align: right;\">\n",
              "      <th></th>\n",
              "      <th>anime_id</th>\n",
              "      <th>title</th>\n",
              "      <th>episodes</th>\n",
              "      <th>popularity</th>\n",
              "      <th>score</th>\n",
              "      <th>genre</th>\n",
              "    </tr>\n",
              "  </thead>\n",
              "  <tbody>\n",
              "    <tr>\n",
              "      <th>0</th>\n",
              "      <td>11013</td>\n",
              "      <td>Inu x Boku SS</td>\n",
              "      <td>12</td>\n",
              "      <td>231</td>\n",
              "      <td>7.63</td>\n",
              "      <td>Comedy, Supernatural, Romance, Shounen</td>\n",
              "    </tr>\n",
              "    <tr>\n",
              "      <th>1</th>\n",
              "      <td>2104</td>\n",
              "      <td>Seto no Hanayome</td>\n",
              "      <td>26</td>\n",
              "      <td>366</td>\n",
              "      <td>7.89</td>\n",
              "      <td>Comedy, Parody, Romance, School, Shounen</td>\n",
              "    </tr>\n",
              "    <tr>\n",
              "      <th>2</th>\n",
              "      <td>5262</td>\n",
              "      <td>Shugo Chara!! Doki</td>\n",
              "      <td>51</td>\n",
              "      <td>1173</td>\n",
              "      <td>7.55</td>\n",
              "      <td>Comedy, Magic, School, Shoujo</td>\n",
              "    </tr>\n",
              "    <tr>\n",
              "      <th>3</th>\n",
              "      <td>721</td>\n",
              "      <td>Princess Tutu</td>\n",
              "      <td>38</td>\n",
              "      <td>916</td>\n",
              "      <td>8.21</td>\n",
              "      <td>Comedy, Drama, Magic, Romance, Fantasy</td>\n",
              "    </tr>\n",
              "    <tr>\n",
              "      <th>4</th>\n",
              "      <td>12365</td>\n",
              "      <td>Bakuman. 3rd Season</td>\n",
              "      <td>25</td>\n",
              "      <td>426</td>\n",
              "      <td>8.67</td>\n",
              "      <td>Comedy, Drama, Romance, Shounen</td>\n",
              "    </tr>\n",
              "    <tr>\n",
              "      <th>...</th>\n",
              "      <td>...</td>\n",
              "      <td>...</td>\n",
              "      <td>...</td>\n",
              "      <td>...</td>\n",
              "      <td>...</td>\n",
              "      <td>...</td>\n",
              "    </tr>\n",
              "    <tr>\n",
              "      <th>6654</th>\n",
              "      <td>37895</td>\n",
              "      <td>Ling Yu 5th Season</td>\n",
              "      <td>12</td>\n",
              "      <td>13848</td>\n",
              "      <td>7.50</td>\n",
              "      <td>Fantasy</td>\n",
              "    </tr>\n",
              "    <tr>\n",
              "      <th>6655</th>\n",
              "      <td>37888</td>\n",
              "      <td>Tian Yu</td>\n",
              "      <td>13</td>\n",
              "      <td>14211</td>\n",
              "      <td>6.00</td>\n",
              "      <td>Action, Adventure, Demons, Fantasy, Magic</td>\n",
              "    </tr>\n",
              "    <tr>\n",
              "      <th>6656</th>\n",
              "      <td>37667</td>\n",
              "      <td>Heisei Matsue Kaidan</td>\n",
              "      <td>7</td>\n",
              "      <td>14003</td>\n",
              "      <td>4.69</td>\n",
              "      <td>Horror, Parody, Supernatural</td>\n",
              "    </tr>\n",
              "    <tr>\n",
              "      <th>6658</th>\n",
              "      <td>36913</td>\n",
              "      <td>Inazuma Eleven x Kaitou Gru no Tsuki Dorobou</td>\n",
              "      <td>4</td>\n",
              "      <td>9441</td>\n",
              "      <td>5.87</td>\n",
              "      <td>Comedy</td>\n",
              "    </tr>\n",
              "    <tr>\n",
              "      <th>6662</th>\n",
              "      <td>37894</td>\n",
              "      <td>Ling Yu 4th Season</td>\n",
              "      <td>12</td>\n",
              "      <td>12779</td>\n",
              "      <td>7.53</td>\n",
              "      <td>Fantasy</td>\n",
              "    </tr>\n",
              "  </tbody>\n",
              "</table>\n",
              "<p>4317 rows × 6 columns</p>\n",
              "</div>"
            ],
            "text/plain": [
              "      anime_id                                         title  episodes  \\\n",
              "0        11013                                 Inu x Boku SS        12   \n",
              "1         2104                              Seto no Hanayome        26   \n",
              "2         5262                            Shugo Chara!! Doki        51   \n",
              "3          721                                 Princess Tutu        38   \n",
              "4        12365                           Bakuman. 3rd Season        25   \n",
              "...        ...                                           ...       ...   \n",
              "6654     37895                            Ling Yu 5th Season        12   \n",
              "6655     37888                                       Tian Yu        13   \n",
              "6656     37667                          Heisei Matsue Kaidan         7   \n",
              "6658     36913  Inazuma Eleven x Kaitou Gru no Tsuki Dorobou         4   \n",
              "6662     37894                            Ling Yu 4th Season        12   \n",
              "\n",
              "      popularity  score                                      genre  \n",
              "0            231   7.63     Comedy, Supernatural, Romance, Shounen  \n",
              "1            366   7.89   Comedy, Parody, Romance, School, Shounen  \n",
              "2           1173   7.55              Comedy, Magic, School, Shoujo  \n",
              "3            916   8.21     Comedy, Drama, Magic, Romance, Fantasy  \n",
              "4            426   8.67            Comedy, Drama, Romance, Shounen  \n",
              "...          ...    ...                                        ...  \n",
              "6654       13848   7.50                                    Fantasy  \n",
              "6655       14211   6.00  Action, Adventure, Demons, Fantasy, Magic  \n",
              "6656       14003   4.69               Horror, Parody, Supernatural  \n",
              "6658        9441   5.87                                     Comedy  \n",
              "6662       12779   7.53                                    Fantasy  \n",
              "\n",
              "[4317 rows x 6 columns]"
            ]
          },
          "metadata": {
            "tags": []
          },
          "execution_count": 51
        }
      ]
    },
    {
      "cell_type": "markdown",
      "metadata": {
        "id": "EI2tnyjYE7Hb",
        "colab_type": "text"
      },
      "source": [
        "Abaixo fazemos a normalização das variáveis independentes e aplicamos one hot encoding para os gêneros, assim, cada coluna de y representará um gênero.\n",
        "\n",
        "Em seguida, separamos os dados em dados de treino e teste"
      ]
    },
    {
      "cell_type": "code",
      "metadata": {
        "id": "FTCEo2XIxSsm",
        "colab_type": "code",
        "outputId": "b010c15d-c2bc-45d6-c6d6-c3f1de3db6db",
        "colab": {
          "base_uri": "https://localhost:8080/",
          "height": 147
        }
      },
      "source": [
        "#aplicando KNN\n",
        "    \n",
        "X = animes[['episodes', 'popularity', 'score']]\n",
        "y = animes[['genre']]\n",
        "\n",
        "X = StandardScaler().fit_transform(X) #normaliza os dados\n",
        "\n",
        "#transforma cada genero de anime em uma coluna\n",
        "y[\"genre\"] = y[\"genre\"].str.replace(\" \", \"\")\n",
        "y = y[\"genre\"].str.get_dummies(sep=',')\n",
        "\n",
        "#separação de treino e teste\n",
        "X_train, X_test, y_train, y_test = train_test_split(X, y, random_state=0)"
      ],
      "execution_count": 0,
      "outputs": [
        {
          "output_type": "stream",
          "text": [
            "/usr/local/lib/python3.6/dist-packages/ipykernel_launcher.py:8: SettingWithCopyWarning: \n",
            "A value is trying to be set on a copy of a slice from a DataFrame.\n",
            "Try using .loc[row_indexer,col_indexer] = value instead\n",
            "\n",
            "See the caveats in the documentation: http://pandas.pydata.org/pandas-docs/stable/user_guide/indexing.html#returning-a-view-versus-a-copy\n",
            "  \n"
          ],
          "name": "stderr"
        }
      ]
    },
    {
      "cell_type": "markdown",
      "metadata": {
        "id": "mRnD8Fu-Fr3R",
        "colab_type": "text"
      },
      "source": [
        "Abaixo otimizamos o valor de k, variando este de 1 até 103. \n",
        "\n",
        "No início da otimização separamos os dataset de treino novamente, gerando agora um novo conjunto para treino e um para validação.\n",
        "\n",
        "OBS: Após executar diversos testes com random_states diferentes, o valor ótimo de k aparenta ser 1."
      ]
    },
    {
      "cell_type": "code",
      "metadata": {
        "id": "tFZ_vdIBxSsr",
        "colab_type": "code",
        "outputId": "f6423e95-0cb9-4b51-9fa8-8f1d123eb10e",
        "colab": {
          "base_uri": "https://localhost:8080/",
          "height": 35
        }
      },
      "source": [
        "def otimiza_k(X, y):        \n",
        "    #Separação de treino e validação\n",
        "    X_train, X_valid, y_train, y_valid = train_test_split(X, y, random_state=0)\n",
        "\n",
        "    k_max_accuracy = 0\n",
        "    train_max_accuracy = 0\n",
        "    valid_max_accuracy = 0\n",
        "    \n",
        "    for k in (1, 3, 5, 7, 9, 11, 15, 17, 19, 21, 25, 29, 33, 37, 41, 45, 49, 53, 63, 73, 83, 93, 103):\n",
        "        knn = KNeighborsClassifier(n_neighbors=k)\n",
        "        clf = OneVsRestClassifier(knn).fit(X_train, y_train) # treina no conjunto de treino\n",
        "        y_pred = clf.predict(X_train) #previsões no conjunto de treino\n",
        "        y_pred_v = clf.predict(X_valid)#previsoes no conjunto de validacao \n",
        "        \n",
        "        # Resultado com melhor acurácia\n",
        "        t_accuracy = accuracy_score(y_pred, y_train)\n",
        "        v_accuracy = accuracy_score(y_pred_v, y_valid)\n",
        "        \n",
        "        #atualiza melhor k se este obtem melhor acuracia tanto em treino quanto validacao\n",
        "        #nos casos em que k melhora a acuracia em treino mas nao em validacao, temos overfitting,\n",
        "        #e portanto nao atualizamos k\n",
        "        if (t_accuracy > train_max_accuracy and v_accuracy > valid_max_accuracy):\n",
        "                k_max_accuracy = k\n",
        "                train_max_accuracy = t_accuracy\n",
        "                valid_max_accuracy = v_accuracy\n",
        "        \n",
        "        \n",
        "        return k_max_accuracy\n",
        "\n",
        "otimiza_k(X_train, y_train)"
      ],
      "execution_count": 0,
      "outputs": [
        {
          "output_type": "execute_result",
          "data": {
            "text/plain": [
              "1"
            ]
          },
          "metadata": {
            "tags": []
          },
          "execution_count": 53
        }
      ]
    },
    {
      "cell_type": "code",
      "metadata": {
        "id": "06moN8iRIFIu",
        "colab_type": "code",
        "colab": {}
      },
      "source": [
        ""
      ],
      "execution_count": 0,
      "outputs": []
    },
    {
      "cell_type": "markdown",
      "metadata": {
        "id": "VxqpXo1EHhFP",
        "colab_type": "text"
      },
      "source": [
        "Por fim, classificamos quanto aos k vizinhos mais próximos e obtemos o resultado médio do teste acurácia."
      ]
    },
    {
      "cell_type": "code",
      "metadata": {
        "id": "y8QrZlaMxSsx",
        "colab_type": "code",
        "outputId": "5c66bf88-c78f-428f-c141-cc6f9d212f02",
        "colab": {
          "base_uri": "https://localhost:8080/",
          "height": 35
        }
      },
      "source": [
        "k = otimiza_k(X_train, y_train)\n",
        "\n",
        "knn = KNeighborsClassifier(n_neighbors=k)\n",
        "clf = OneVsRestClassifier(knn).fit(X_train, y_train)\n",
        "\n",
        "y_pred = clf.predict(X_test)\n",
        "\n",
        "clf.score(X_test, y_test)"
      ],
      "execution_count": 0,
      "outputs": [
        {
          "output_type": "execute_result",
          "data": {
            "text/plain": [
              "0.03888888888888889"
            ]
          },
          "metadata": {
            "tags": []
          },
          "execution_count": 54
        }
      ]
    },
    {
      "cell_type": "markdown",
      "metadata": {
        "id": "r4JDdkuDIGkT",
        "colab_type": "text"
      },
      "source": [
        "A nota obtida deixou a desejar, perto 3.8%, mas isto é parcialmente esperado, pois como temos N colunas de gêneros um acerto só é contabilizado se para uma dada observação, todas as N colunas forem classificadas corretamente\n",
        "\n",
        "Vamos olhar as métricas obtidas mais de perto"
      ]
    },
    {
      "cell_type": "code",
      "metadata": {
        "id": "X7-hH84BxSs3",
        "colab_type": "code",
        "outputId": "8e790352-5d87-4280-d5b6-23dc328b0bf5",
        "colab": {
          "base_uri": "https://localhost:8080/",
          "height": 1000
        }
      },
      "source": [
        "#o index de um anime no array é o mesmo presente na tabela, e.g. 'action' é representado na primeira linha da tabela\n",
        "print(y.columns)\n",
        "print(classification_report(y_test, y_pred))"
      ],
      "execution_count": 0,
      "outputs": [
        {
          "output_type": "stream",
          "text": [
            "Index(['Action', 'Adventure', 'Cars', 'Comedy', 'Dementia', 'Demons', 'Drama',\n",
            "       'Ecchi', 'Fantasy', 'Game', 'Harem', 'Hentai', 'Historical', 'Horror',\n",
            "       'Josei', 'Kids', 'Magic', 'MartialArts', 'Mecha', 'Military', 'Music',\n",
            "       'Mystery', 'Parody', 'Police', 'Psychological', 'Romance', 'Samurai',\n",
            "       'School', 'Sci-Fi', 'Seinen', 'Shoujo', 'ShoujoAi', 'Shounen',\n",
            "       'ShounenAi', 'SliceofLife', 'Space', 'Sports', 'SuperPower',\n",
            "       'Supernatural', 'Thriller', 'Vampire', 'Yaoi', 'Yuri'],\n",
            "      dtype='object')\n",
            "              precision    recall  f1-score   support\n",
            "\n",
            "           0       0.31      0.33      0.32       321\n",
            "           1       0.31      0.28      0.30       216\n",
            "           2       0.00      0.00      0.00         7\n",
            "           3       0.52      0.52      0.52       517\n",
            "           4       0.00      0.00      0.00         6\n",
            "           5       0.00      0.00      0.00        30\n",
            "           6       0.29      0.30      0.29       225\n",
            "           7       0.27      0.20      0.23        98\n",
            "           8       0.25      0.21      0.23       221\n",
            "           9       0.02      0.03      0.03        32\n",
            "          10       0.10      0.13      0.11        55\n",
            "          11       0.41      0.45      0.43        62\n",
            "          12       0.12      0.13      0.12        62\n",
            "          13       0.03      0.03      0.03        31\n",
            "          14       0.14      0.12      0.13        16\n",
            "          15       0.21      0.14      0.17        56\n",
            "          16       0.15      0.17      0.16        96\n",
            "          17       0.03      0.03      0.03        35\n",
            "          18       0.12      0.14      0.13        92\n",
            "          19       0.14      0.20      0.17        50\n",
            "          20       0.02      0.04      0.03        25\n",
            "          21       0.11      0.10      0.11        79\n",
            "          22       0.06      0.08      0.07        39\n",
            "          23       0.00      0.00      0.00        25\n",
            "          24       0.03      0.03      0.03        36\n",
            "          25       0.22      0.25      0.23       200\n",
            "          26       0.05      0.06      0.05        17\n",
            "          27       0.21      0.23      0.22       172\n",
            "          28       0.26      0.29      0.27       214\n",
            "          29       0.06      0.07      0.07        71\n",
            "          30       0.13      0.14      0.14        76\n",
            "          31       0.00      0.00      0.00        10\n",
            "          32       0.28      0.26      0.27       209\n",
            "          33       0.00      0.00      0.00         8\n",
            "          34       0.18      0.17      0.18       170\n",
            "          35       0.05      0.08      0.06        37\n",
            "          36       0.17      0.13      0.15        69\n",
            "          37       0.10      0.09      0.09        56\n",
            "          38       0.17      0.16      0.17       147\n",
            "          39       0.00      0.00      0.00        10\n",
            "          40       0.07      0.08      0.07        13\n",
            "          41       0.00      0.00      0.00         4\n",
            "          42       0.00      0.00      0.00         1\n",
            "\n",
            "   micro avg       0.24      0.25      0.24      3916\n",
            "   macro avg       0.13      0.13      0.13      3916\n",
            "weighted avg       0.25      0.25      0.25      3916\n",
            " samples avg       0.26      0.27      0.25      3916\n",
            "\n"
          ],
          "name": "stdout"
        }
      ]
    },
    {
      "cell_type": "markdown",
      "metadata": {
        "id": "K4AZ5mgPJrly",
        "colab_type": "text"
      },
      "source": [
        "Vemos que a média de precisão e recall para um dado gênero é perto de 25%, um pouco melhor do que o resultado obtido previamente. \n",
        "\n",
        "Como esperado, os gêneros mais presentes no dataset obtiveram os melhores resultados, enquanto aqueles com menores observações tiveram valores equivalentes ou próximos de 0.\n",
        "\n",
        "É possível que com um volume de dados maior encontraríamos melhores resultados, mas dadas as circunstâncias, não parece que os métodos aplicados são suficientes para classificar os animes quanto ao gênero."
      ]
    }
  ]
}